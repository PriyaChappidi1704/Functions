{
  "nbformat": 4,
  "nbformat_minor": 0,
  "metadata": {
    "colab": {
      "provenance": []
    },
    "kernelspec": {
      "name": "python3",
      "display_name": "Python 3"
    },
    "language_info": {
      "name": "python"
    }
  },
  "cells": [
    {
      "cell_type": "markdown",
      "source": [
        "#Functions\n"
      ],
      "metadata": {
        "id": "d1iV2uCoQhoe"
      }
    },
    {
      "cell_type": "markdown",
      "source": [
        "1.  What is the difference between a function and a method in Python?\n",
        "  - Function: A function is a block of reusable code that is designed to perform a specific task. It can be defined using the `def` keyword and can be called independently of any object. Functions can accept arguments and return values.\n",
        " - Example: def add(x, y): return x + y\n",
        " - Method: A method is similar to a function but it is associated with an object. It is a function that belongs to an object or class and is called using the dot notation. Methods usually operate on the data contained within the object.\n",
        " - Example: my_list.append(5)\n",
        "2. Explain the concept of function arguments and parameters in Python.\n",
        "  - Parameters: Parameters are the variables that are defined in the function signature. They act as placeholders for the values (arguments) that will be passed into the function.\n",
        "  - Example: def greet(name):\n",
        "  - Arguments: Arguments are the actual values you provide when calling a function. They get assigned to the corresponding parameters when the function is executed.\n",
        "  - Example: greet(\"Alice\")"
      ],
      "metadata": {
        "id": "crSvls7zQmBA"
      }
    },
    {
      "cell_type": "code",
      "source": [
        "#3. What are the different ways to define and call a function in Python?\n",
        "#1.Defining a function\n",
        "def greet(name):\n",
        "    return f\"Hello, {name}!\"\n",
        "#2.Calling a function:\n",
        "function_name(arguments)\n",
        "#3.Lambda function(anonymous function):\n",
        "func = lambda x: x + 1\n",
        "print(func(5))\n",
        "#4.*Function using \"functools.partial\" (for creating a new function from an existing one with some pre-filled arguments):\n",
        "from functools import partial\n",
        "add_five = partial(add, 5)\n",
        "print(add_five(10))  # Outputs 15\n",
        "\n",
        "\n",
        "#4.What is the purpose of the `return` statement in a Python function?\n",
        "#A.The `return` statement is used to exit a function and pass a value back to the caller. It is optional in a function, and when omitted, the function returns `None` by default.\n",
        "#Example:\n",
        "def add(x, y):\n",
        "  return x + y\n",
        "result = add(2, 3)\n",
        "print(result)  # Outputs 5"
      ],
      "metadata": {
        "colab": {
          "base_uri": "https://localhost:8080/"
        },
        "id": "Hg41nCVUTMy9",
        "outputId": "c44d3bfd-53a5-43b8-b833-6630dc7350b7"
      },
      "execution_count": 3,
      "outputs": [
        {
          "output_type": "stream",
          "name": "stdout",
          "text": [
            "5\n"
          ]
        }
      ]
    },
    {
      "cell_type": "markdown",
      "source": [
        "5. What are iterators in Python and how do they differ from iterables?\n",
        "  - Iterable: An iterable is any Python object capable of returning its members one at a time. Examples of iterables include lists, strings, and tuples. Iterables implement the  '__iter__()' method or have the '__iter__' property.\n",
        "  - Example: A list `lst = [1, 2, 3]` is iterable.\n",
        "  - Iterator: An iterator is an object that represents a stream of data and supports two methods:\n",
        "  - 1. `__iter__()` returns the iterator object itself.\n",
        "  - 2. `__next__()` returns the next item in the stream.\n",
        "  - Example:\n",
        "  - it = iter([1, 2, 3])\n",
        "  - print(next(it))  # Outputs 1\n",
        "6. Explain the concept of generators in Python and how they are defined.\n",
        "  - Generators are a type of iterator that allows you to iterate over a sequence of values, but they don’t store the entire sequence in memory at once. They use the 'yield' keyword to return values one at a time.\n",
        "  - Definition: A generator function is defined using 'def' with one or more 'yield' statements.\n",
        "7. What are the advantages of using generators over regular functions?\n",
        "  - Memory Efficiency: Generators produce values on the fly, meaning they don't store the entire sequence in memory. This is especially beneficial when working with large datasets.\n",
        "  - Lazy Evaluation: Generators only compute the next value when needed, making them more efficient for iterating over large sequences.\n",
        "   - Improved Performance: Since values are generated on demand, the program doesn't need to load everything into memory at once.\n",
        "8. What is a lambda function in Python and when is it typically used?\n",
        "  - A lambda function is a small anonymous function defined using the 'lambda' keyword. It can have any number of arguments but only one expression. It's typically used for short-lived operations where defining a full function is unnecessary.\n",
        "  - Syntax: `lambda arguments: expression`\n",
        "  - Example:\n",
        "  - square = lambda x: x * x\n",
        "  - print(square(4))  # Outputs 16\n"
      ],
      "metadata": {
        "id": "MyinXMPZUkhg"
      }
    },
    {
      "cell_type": "code",
      "source": [
        "#9. Explain the purpose and usage of the `map()` function in Python.\n",
        "#A.The `map()` function applies a given function to all items in an input iterable (like a list) and returns an iterator that produces the results.\n",
        "#Syntax: `map(function, iterable)`\n",
        "#Example:\n",
        "numbers = [1, 2, 3]\n",
        "squared = map(lambda x: x**2, numbers)\n",
        "print(list(squared))"
      ],
      "metadata": {
        "colab": {
          "base_uri": "https://localhost:8080/"
        },
        "id": "vkPTDSGiXXVW",
        "outputId": "c6de9f35-1c08-4181-d7a2-31c79d4b1e54"
      },
      "execution_count": 4,
      "outputs": [
        {
          "output_type": "stream",
          "name": "stdout",
          "text": [
            "[1, 4, 9]\n"
          ]
        }
      ]
    },
    {
      "cell_type": "markdown",
      "source": [
        "10. What is the difference between 'map()', 'reduce()', and 'filter()' functions in Python?\n",
        "  - map(): Applies a given function to each item in an iterable and returns a map object.\n",
        "  - Example:   \n",
        "  - map(lambda x: x * 2, [1, 2, 3])  # Outputs [2, 4, 6]\n",
        "  - filter(): Filters elements from an iterable based on a function that returns a boolean value. It returns only the items for which the function returns 'True'.\n",
        "  - Example:   \n",
        "  - filter(lambda x: x % 2 == 0, [1, 2, 3, 4])  # Outputs [2, 4]\n",
        "  - reduce(): Accumulates a result by applying a binary function (i.e., a function with two arguments) across an iterable. It returns a single result.\n",
        "  - Example:  \n",
        "  - from functools import reduce\n",
        "  - reduce(lambda x, y: x + y, [1, 2, 3])  # Outputs 6\n",
        "11. Using pen & Paper write the internal mechanism for sum operation using  reduce function on this given list:[47,11,42,13]:\n",
        "![assignment.jpg](data:image/jpeg;base64,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)"
      ],
      "metadata": {
        "id": "xc1TBgfZYDBg"
      }
    },
    {
      "cell_type": "code",
      "source": [
        "#1. Write a Python function that takes a list of numbers as input and returns the sum of all even numbers inthe list.\n",
        "def even_numbers(numbers):\n",
        "  return sum(num for num in numbers if num % 2 == 0)\n",
        "numbers = [1, 2, 3, 4, 5, 6]\n",
        "print(even_numbers(numbers))"
      ],
      "metadata": {
        "colab": {
          "base_uri": "https://localhost:8080/"
        },
        "id": "iqllmWTwZwK1",
        "outputId": "1a259082-7373-4a56-ded1-920611dac2ea"
      },
      "execution_count": 6,
      "outputs": [
        {
          "output_type": "stream",
          "name": "stdout",
          "text": [
            "12\n"
          ]
        }
      ]
    },
    {
      "cell_type": "code",
      "source": [
        "#2. Create a Python function that accepts a string and returns the reverse of that string.\n",
        "def rev_string(s):\n",
        "  return s[::-1]\n",
        "string = \"hello\"\n",
        "print(rev_string(string))"
      ],
      "metadata": {
        "colab": {
          "base_uri": "https://localhost:8080/"
        },
        "id": "djipvg-maKFl",
        "outputId": "ae935053-8804-4aa1-d815-b6cd71e3356c"
      },
      "execution_count": 8,
      "outputs": [
        {
          "output_type": "stream",
          "name": "stdout",
          "text": [
            "olleh\n"
          ]
        }
      ]
    },
    {
      "cell_type": "code",
      "source": [
        "#3. Implement a Python function that takes a list of integers and returns a new list containing the squares of each number.\n",
        "def square_numbers(numbers):\n",
        "    return [num ** 2 for num in numbers]\n",
        "numbers = [1, 2, 3, 4]\n",
        "print(square_numbers(numbers))"
      ],
      "metadata": {
        "colab": {
          "base_uri": "https://localhost:8080/"
        },
        "id": "XiVBOMI_apRH",
        "outputId": "12b13e25-1002-4332-cd40-f0bc1a8d3afe"
      },
      "execution_count": 9,
      "outputs": [
        {
          "output_type": "stream",
          "name": "stdout",
          "text": [
            "[1, 4, 9, 16]\n"
          ]
        }
      ]
    },
    {
      "cell_type": "code",
      "source": [
        "#4. Write a Python function that checks if a given number is prime or not from 1 to 200.\n",
        "def is_prime(n):\n",
        "    if n < 2 or n > 200:\n",
        "        return False\n",
        "    for i in range(2, int(n ** 0.5) + 1):\n",
        "        if n % i == 0:\n",
        "            return False\n",
        "    return True\n",
        "print(is_prime(29))\n",
        "print(is_prime(200))"
      ],
      "metadata": {
        "colab": {
          "base_uri": "https://localhost:8080/"
        },
        "id": "dFh5UdJ0a4mk",
        "outputId": "8c7497ee-ed2f-4a3f-b6fb-b19e822b33f5"
      },
      "execution_count": 10,
      "outputs": [
        {
          "output_type": "stream",
          "name": "stdout",
          "text": [
            "True\n",
            "False\n"
          ]
        }
      ]
    },
    {
      "cell_type": "code",
      "source": [
        "#5. Create an iterator class in Python that generates the Fibonacci sequence up to a specified number of terms.\n",
        "class Fibonacci:\n",
        "    def __init__(self, n):\n",
        "        self.n = n\n",
        "        self.a = 0\n",
        "        self.b = 1\n",
        "        self.count = 0\n",
        "    def __iter__(self):\n",
        "        return self\n",
        "    def __next__(self):\n",
        "        if self.count < self.n:\n",
        "            result = self.a\n",
        "            self.a, self.b = self.b, self.a + self.b\n",
        "            self.count += 1\n",
        "            return result\n",
        "        else:\n",
        "            raise StopIteration\n",
        "fib = Fibonacci(10)\n",
        "for num in fib:\n",
        "    print(num)\n",
        "\n"
      ],
      "metadata": {
        "colab": {
          "base_uri": "https://localhost:8080/"
        },
        "id": "F4sDkFkjbGvh",
        "outputId": "e9de84fe-d6b4-4c26-d700-f0bfafb65e8e"
      },
      "execution_count": 11,
      "outputs": [
        {
          "output_type": "stream",
          "name": "stdout",
          "text": [
            "0\n",
            "1\n",
            "1\n",
            "2\n",
            "3\n",
            "5\n",
            "8\n",
            "13\n",
            "21\n",
            "34\n"
          ]
        }
      ]
    },
    {
      "cell_type": "code",
      "source": [
        "#6. Write a generator function in Python that yields the powers of 2 up to a given exponent.\n",
        "def powers_of_two(n):\n",
        "    for i in range(n + 1):\n",
        "        yield 2 ** i\n",
        "for power in powers_of_two(5):\n",
        "    print(power)"
      ],
      "metadata": {
        "colab": {
          "base_uri": "https://localhost:8080/"
        },
        "id": "YkhqVFS1b4yl",
        "outputId": "b33fbf8a-f92a-42f4-e174-81a7dace2b47"
      },
      "execution_count": 12,
      "outputs": [
        {
          "output_type": "stream",
          "name": "stdout",
          "text": [
            "1\n",
            "2\n",
            "4\n",
            "8\n",
            "16\n",
            "32\n"
          ]
        }
      ]
    },
    {
      "cell_type": "code",
      "source": [
        "#7. Implement a generator function that reads a file line by line and yields each line as a string.\n",
        "def read_file(filename):\n",
        "    with open(filename, 'r') as file:\n",
        "        for line in file:\n",
        "            yield line\n",
        "for line in read_file('example.txt'):\n",
        "    print(line)\n",
        "#gives the output of the file line by line."
      ],
      "metadata": {
        "id": "BcrWCQoPcgAy"
      },
      "execution_count": null,
      "outputs": []
    },
    {
      "cell_type": "code",
      "source": [
        "#8. Use a lambda function in Python to sort a list of tuples based on the second element of each tuple.\n",
        "data = [('apple', 3), ('banana', 1), ('cherry', 2)]\n",
        "sorted_data = sorted(data, key=lambda x: x[1])\n",
        "print(sorted_data)"
      ],
      "metadata": {
        "colab": {
          "base_uri": "https://localhost:8080/"
        },
        "id": "qyoedSplcmaV",
        "outputId": "a17aa788-acc3-4f60-b907-0edd00f398c9"
      },
      "execution_count": 14,
      "outputs": [
        {
          "output_type": "stream",
          "name": "stdout",
          "text": [
            "[('banana', 1), ('cherry', 2), ('apple', 3)]\n"
          ]
        }
      ]
    },
    {
      "cell_type": "code",
      "source": [
        "#9. Write a Python program that uses `map()` to convert a list of temperatures from Celsius to Fahrenheit.\n",
        "celsius_temps = [0, 10, 20, 30]\n",
        "fahrenheit_temps = list(map(lambda x: (x * 9/5) + 32, celsius_temps))\n",
        "print(fahrenheit_temps)"
      ],
      "metadata": {
        "colab": {
          "base_uri": "https://localhost:8080/"
        },
        "id": "V6wHLaC4csxW",
        "outputId": "249a39e9-7d82-44cd-8446-7b9b794d5291"
      },
      "execution_count": 15,
      "outputs": [
        {
          "output_type": "stream",
          "name": "stdout",
          "text": [
            "[32.0, 50.0, 68.0, 86.0]\n"
          ]
        }
      ]
    },
    {
      "cell_type": "code",
      "source": [
        "#10. Create a Python program that uses `filter()` to remove all the vowels from a given string.\n",
        "def remove_vowels(input_string):\n",
        "  vowels = 'aeiouAEIOU'\n",
        "  return ''.join(filter(lambda x: x not in vowels, input_string))\n",
        "input_string = \"Hello World\"\n",
        "output_string = remove_vowels(input_string)\n",
        "print(output_string)"
      ],
      "metadata": {
        "colab": {
          "base_uri": "https://localhost:8080/"
        },
        "id": "ABBOixzmczHf",
        "outputId": "8f782784-6c1f-4a56-9a93-3a9dcfc24e86"
      },
      "execution_count": 16,
      "outputs": [
        {
          "output_type": "stream",
          "name": "stdout",
          "text": [
            "Hll Wrld\n"
          ]
        }
      ]
    },
    {
      "cell_type": "code",
      "source": [
        "#11.Imagine an accounting routine used in a book shop. It works on a list with sublists, which look like this:\n",
        "#Write a Python program, which returns a list with 2-tuples. Each tuple consists of the order number and the product of the price per item and the quantity.\n",
        "#The product should be increased by 10,- € if the value of the order is smaller than 100,00 €.\n",
        "orders = [['34587', 'Learning Python, Mark Lutz', 4, 40.95],\n",
        "    ['98762', 'Programming Python, Mark Lutz', 5, 56.80],\n",
        "    ['77226', 'Head First Python, Paul Barry', 3, 32.95],\n",
        "    ['88112', 'Einführung in Python3, Bernd Klein', 3, 24.99]]\n",
        "def calculate_order_totals(order_list):\n",
        "    result = []\n",
        "    for order in order_list:\n",
        "        total = order[2] * order[3]\n",
        "        if total < 100:\n",
        "            total += 10\n",
        "        result.append((order[0], round(total, 2)))\n",
        "    return result\n",
        "final_orders = calculate_order_totals(orders)\n",
        "print(final_orders)\n",
        "\n",
        "#Write a Python program using lambda and map.\n",
        "orders = [['34587', 'Learning Python, Mark Lutz', 4, 40.95],\n",
        "    ['98762', 'Programming Python, Mark Lutz', 5, 56.80],\n",
        "    ['77226', 'Head First Python, Paul Barry', 3, 32.95],\n",
        "    ['88112', 'Einführung in Python3, Bernd Klein', 3, 24.99]]\n",
        "final_orders = list(map(lambda order: (\n",
        "    order[0],\n",
        "    round(order[2] * order[3] + (10 if order[2] * order[3] < 100 else 0), 2)\n",
        "), orders))\n",
        "print(final_orders)\n",
        "\n",
        "\n"
      ],
      "metadata": {
        "colab": {
          "base_uri": "https://localhost:8080/"
        },
        "id": "hA7kx69qdPYK",
        "outputId": "850de874-08c4-41c0-d73f-d044ccdb16b1"
      },
      "execution_count": 18,
      "outputs": [
        {
          "output_type": "stream",
          "name": "stdout",
          "text": [
            "[('34587', 163.8), ('98762', 284.0), ('77226', 108.85), ('88112', 84.97)]\n",
            "[('34587', 163.8), ('98762', 284.0), ('77226', 108.85), ('88112', 84.97)]\n"
          ]
        }
      ]
    }
  ]
}